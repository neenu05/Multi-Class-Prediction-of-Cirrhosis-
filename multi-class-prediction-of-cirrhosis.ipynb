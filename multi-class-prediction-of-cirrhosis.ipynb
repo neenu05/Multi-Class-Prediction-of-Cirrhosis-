{
 "cells": [
  {
   "cell_type": "markdown",
   "metadata": {},
   "source": [
    "<a href=\"https://www.kaggle.com/code/neenues/multi-class-prediction-of-cirrhosis-score-0-468\" target=\"_blank\"><img align=\"left\" alt=\"Kaggle\" title=\"Open in Kaggle\" src=\"https://kaggle.com/static/images/open-in-kaggle.svg\"></a>"
   ]
  },
  {
   "cell_type": "markdown",
   "metadata": {},
   "source": [
    "- [Execute the notebook in Kaggle](https://www.kaggle.com/code/neenues/multi-class-prediction-of-cirrhosis-score-0-468)"
   ]
  },
  {
   "cell_type": "code",
   "execution_count": null,
   "metadata": {
    "execution": {
     "iopub.execute_input": "2023-12-29T19:19:20.413031Z",
     "iopub.status.busy": "2023-12-29T19:19:20.412538Z",
     "iopub.status.idle": "2023-12-29T19:19:20.420977Z",
     "shell.execute_reply": "2023-12-29T19:19:20.419682Z",
     "shell.execute_reply.started": "2023-12-29T19:19:20.412989Z"
    }
   },
   "outputs": [],
   "source": [
    "import numpy as np\n",
    "import pandas as pd\n",
    "import seaborn as sns\n",
    "import matplotlib.pylab as plt\n",
    "import seaborn as sns\n",
    "plt.style.use('ggplot')\n",
    "\n",
    "from sklearn.preprocessing import StandardScaler\n",
    "from sklearn.preprocessing import LabelEncoder\n",
    "from sklearn.ensemble import RandomForestClassifier\n",
    "from sklearn.metrics import accuracy_score, log_loss"
   ]
  },
  {
   "cell_type": "code",
   "execution_count": null,
   "metadata": {
    "execution": {
     "iopub.execute_input": "2023-12-29T19:19:20.423558Z",
     "iopub.status.busy": "2023-12-29T19:19:20.423158Z",
     "iopub.status.idle": "2023-12-29T19:19:20.485476Z",
     "shell.execute_reply": "2023-12-29T19:19:20.484343Z",
     "shell.execute_reply.started": "2023-12-29T19:19:20.423528Z"
    }
   },
   "outputs": [],
   "source": [
    "data_train =  pd.read_csv('train.csv')\n",
    "data_train.head()"
   ]
  },
  {
   "cell_type": "code",
   "execution_count": null,
   "metadata": {
    "execution": {
     "iopub.execute_input": "2023-12-29T19:19:20.487808Z",
     "iopub.status.busy": "2023-12-29T19:19:20.487317Z",
     "iopub.status.idle": "2023-12-29T19:19:20.506384Z",
     "shell.execute_reply": "2023-12-29T19:19:20.504899Z",
     "shell.execute_reply.started": "2023-12-29T19:19:20.487762Z"
    },
    "scrolled": true
   },
   "outputs": [],
   "source": [
    "data_train.isnull().sum()  ## no null values"
   ]
  },
  {
   "cell_type": "code",
   "execution_count": null,
   "metadata": {
    "execution": {
     "iopub.execute_input": "2023-12-29T19:19:20.510219Z",
     "iopub.status.busy": "2023-12-29T19:19:20.509432Z",
     "iopub.status.idle": "2023-12-29T19:19:20.557702Z",
     "shell.execute_reply": "2023-12-29T19:19:20.556424Z",
     "shell.execute_reply.started": "2023-12-29T19:19:20.510178Z"
    },
    "scrolled": true
   },
   "outputs": [],
   "source": [
    "data_test =  pd.read_csv('test.csv')\n",
    "data_test.head()"
   ]
  },
  {
   "cell_type": "code",
   "execution_count": null,
   "metadata": {
    "execution": {
     "iopub.execute_input": "2023-12-29T19:19:20.560121Z",
     "iopub.status.busy": "2023-12-29T19:19:20.559573Z",
     "iopub.status.idle": "2023-12-29T19:19:20.621331Z",
     "shell.execute_reply": "2023-12-29T19:19:20.620059Z",
     "shell.execute_reply.started": "2023-12-29T19:19:20.560076Z"
    },
    "scrolled": true
   },
   "outputs": [],
   "source": [
    "#Checking the dataset description\n",
    "describe = data_train.describe()\n",
    "describe.transpose()"
   ]
  },
  {
   "cell_type": "code",
   "execution_count": null,
   "metadata": {
    "execution": {
     "iopub.execute_input": "2023-12-29T19:19:20.623282Z",
     "iopub.status.busy": "2023-12-29T19:19:20.622804Z",
     "iopub.status.idle": "2023-12-29T19:19:20.864110Z",
     "shell.execute_reply": "2023-12-29T19:19:20.862932Z",
     "shell.execute_reply.started": "2023-12-29T19:19:20.623249Z"
    }
   },
   "outputs": [],
   "source": [
    "cirrhosis_counts = data_train['Status'].value_counts()\n",
    "print(cirrhosis_counts)\n",
    "fig, ax = plt.subplots(figsize=(3, 3))\n",
    "fig = sns.barplot(x= cirrhosis_counts.index, y= cirrhosis_counts.values, ax=ax)"
   ]
  },
  {
   "cell_type": "markdown",
   "metadata": {},
   "source": [
    "    C (censored) indicates the patient was alive at N_Days.\n",
    "    D indicates the patient was deceased at N_Days.\n",
    "    CL indicates the patient was alive at N_Days due to liver a transplant."
   ]
  },
  {
   "cell_type": "code",
   "execution_count": null,
   "metadata": {
    "execution": {
     "iopub.execute_input": "2023-12-29T19:19:20.866733Z",
     "iopub.status.busy": "2023-12-29T19:19:20.865702Z",
     "iopub.status.idle": "2023-12-29T19:19:20.885402Z",
     "shell.execute_reply": "2023-12-29T19:19:20.884184Z",
     "shell.execute_reply.started": "2023-12-29T19:19:20.866689Z"
    }
   },
   "outputs": [],
   "source": [
    "X=data_train.iloc[:,1:-1].values #  first and last columns not inculded\n",
    "y=data_train.iloc[:,-1].values  # only last - target\n",
    "\n",
    "X_test=data_test.iloc[:,1:].values  # only first column not inculded  "
   ]
  },
  {
   "cell_type": "code",
   "execution_count": null,
   "metadata": {
    "execution": {
     "iopub.execute_input": "2023-12-29T19:19:20.887434Z",
     "iopub.status.busy": "2023-12-29T19:19:20.887046Z",
     "iopub.status.idle": "2023-12-29T19:19:21.002932Z",
     "shell.execute_reply": "2023-12-29T19:19:21.001638Z",
     "shell.execute_reply.started": "2023-12-29T19:19:20.887404Z"
    }
   },
   "outputs": [],
   "source": [
    "## convert to numberical values\n",
    "for i in range(X.shape[1]):\n",
    "    label_encoder = LabelEncoder()\n",
    "    X_test[:,i] = label_encoder.fit_transform(X_test[:, i])\n",
    "    X[:,i] = label_encoder.fit_transform(X[:, i])\n",
    "    "
   ]
  },
  {
   "cell_type": "code",
   "execution_count": null,
   "metadata": {
    "execution": {
     "iopub.execute_input": "2023-12-29T19:19:21.004563Z",
     "iopub.status.busy": "2023-12-29T19:19:21.004240Z",
     "iopub.status.idle": "2023-12-29T19:19:21.012952Z",
     "shell.execute_reply": "2023-12-29T19:19:21.011512Z",
     "shell.execute_reply.started": "2023-12-29T19:19:21.004536Z"
    }
   },
   "outputs": [],
   "source": [
    "label_encoder = LabelEncoder()\n",
    "y = label_encoder.fit_transform(y)"
   ]
  },
  {
   "cell_type": "code",
   "execution_count": null,
   "metadata": {
    "execution": {
     "iopub.execute_input": "2023-12-29T19:19:21.017539Z",
     "iopub.status.busy": "2023-12-29T19:19:21.017020Z",
     "iopub.status.idle": "2023-12-29T19:19:21.063355Z",
     "shell.execute_reply": "2023-12-29T19:19:21.062380Z",
     "shell.execute_reply.started": "2023-12-29T19:19:21.017503Z"
    }
   },
   "outputs": [],
   "source": [
    "sc = StandardScaler()\n",
    "X = sc.fit_transform(X[:,1:])\n",
    "X_test = sc.transform(X_test[:,1:])"
   ]
  },
  {
   "cell_type": "code",
   "execution_count": null,
   "metadata": {
    "execution": {
     "iopub.execute_input": "2023-12-29T19:19:21.065438Z",
     "iopub.status.busy": "2023-12-29T19:19:21.064579Z",
     "iopub.status.idle": "2023-12-29T19:19:24.135604Z",
     "shell.execute_reply": "2023-12-29T19:19:24.134512Z",
     "shell.execute_reply.started": "2023-12-29T19:19:21.065403Z"
    }
   },
   "outputs": [],
   "source": [
    "# RandomForestClassifier\n",
    "\n",
    "r_clf = RandomForestClassifier(max_features=0.5, max_depth=15, random_state=1)\n",
    "r_clf.fit(X, y)\n",
    "r_pred = r_clf.predict(X)\n",
    "r_probabilty = r_clf.predict_proba(X)\n",
    "\n",
    "r_acc = accuracy_score(y, r_pred)\n",
    "#accuracy_list.append(100*r_acc)\n",
    "accuracy_list = 100*r_acc"
   ]
  },
  {
   "cell_type": "code",
   "execution_count": null,
   "metadata": {
    "execution": {
     "iopub.execute_input": "2023-12-29T19:19:24.137600Z",
     "iopub.status.busy": "2023-12-29T19:19:24.137255Z",
     "iopub.status.idle": "2023-12-29T19:19:24.144171Z",
     "shell.execute_reply": "2023-12-29T19:19:24.142822Z",
     "shell.execute_reply.started": "2023-12-29T19:19:24.137570Z"
    }
   },
   "outputs": [],
   "source": [
    "print(\"Accuracy : \",accuracy_list)"
   ]
  },
  {
   "cell_type": "code",
   "execution_count": null,
   "metadata": {
    "execution": {
     "iopub.execute_input": "2023-12-29T19:19:24.147165Z",
     "iopub.status.busy": "2023-12-29T19:19:24.146329Z",
     "iopub.status.idle": "2023-12-29T19:19:24.159931Z",
     "shell.execute_reply": "2023-12-29T19:19:24.158479Z",
     "shell.execute_reply.started": "2023-12-29T19:19:24.147118Z"
    },
    "scrolled": true
   },
   "outputs": [],
   "source": [
    "# Calculate log loss\n",
    "logloss = log_loss(y, r_probabilty)\n",
    "print(f'Log Loss: ', logloss)"
   ]
  },
  {
   "cell_type": "code",
   "execution_count": null,
   "metadata": {
    "execution": {
     "iopub.execute_input": "2023-12-29T19:19:24.161882Z",
     "iopub.status.busy": "2023-12-29T19:19:24.161454Z",
     "iopub.status.idle": "2023-12-29T19:19:24.267224Z",
     "shell.execute_reply": "2023-12-29T19:19:24.266168Z",
     "shell.execute_reply.started": "2023-12-29T19:19:24.161849Z"
    }
   },
   "outputs": [],
   "source": [
    "y_predict = r_clf.predict_proba(X_test)\n",
    "#print(y_predict)"
   ]
  },
  {
   "cell_type": "code",
   "execution_count": null,
   "metadata": {
    "execution": {
     "iopub.execute_input": "2023-12-29T19:19:24.269598Z",
     "iopub.status.busy": "2023-12-29T19:19:24.268938Z",
     "iopub.status.idle": "2023-12-29T19:19:24.281982Z",
     "shell.execute_reply": "2023-12-29T19:19:24.280527Z",
     "shell.execute_reply.started": "2023-12-29T19:19:24.269553Z"
    }
   },
   "outputs": [],
   "source": [
    "result = np.column_stack((data_test.iloc[:, 0], y_predict))\n",
    "result = pd.DataFrame(result, columns=['id', 'Status_C', 'Status_CL', 'Status_D'])\n",
    "print(result)"
   ]
  },
  {
   "cell_type": "code",
   "execution_count": null,
   "metadata": {},
   "outputs": [],
   "source": [
    "result[\"id\"] = result[\"id\"].apply(np.int32) # convert type of id to int"
   ]
  },
  {
   "cell_type": "code",
   "execution_count": null,
   "metadata": {
    "execution": {
     "iopub.execute_input": "2023-12-29T19:19:24.283879Z",
     "iopub.status.busy": "2023-12-29T19:19:24.283363Z",
     "iopub.status.idle": "2023-12-29T19:19:24.345777Z",
     "shell.execute_reply": "2023-12-29T19:19:24.344643Z",
     "shell.execute_reply.started": "2023-12-29T19:19:24.283836Z"
    }
   },
   "outputs": [],
   "source": [
    "result.to_csv('output.csv', index=False)\n",
    "result.head()"
   ]
  },
  {
   "cell_type": "code",
   "execution_count": null,
   "metadata": {},
   "outputs": [],
   "source": []
  }
 ],
 "metadata": {
  "kaggle": {
   "accelerator": "none",
   "dataSources": [
    {
     "databundleVersionId": 7000181,
     "sourceId": 60893,
     "sourceType": "competition"
    }
   ],
   "dockerImageVersionId": 30626,
   "isGpuEnabled": false,
   "isInternetEnabled": true,
   "language": "python",
   "sourceType": "notebook"
  },
  "kernelspec": {
   "display_name": "Python 3 (ipykernel)",
   "language": "python",
   "name": "python3"
  },
  "language_info": {
   "codemirror_mode": {
    "name": "ipython",
    "version": 3
   },
   "file_extension": ".py",
   "mimetype": "text/x-python",
   "name": "python",
   "nbconvert_exporter": "python",
   "pygments_lexer": "ipython3",
   "version": "3.11.5"
  }
 },
 "nbformat": 4,
 "nbformat_minor": 4
}
